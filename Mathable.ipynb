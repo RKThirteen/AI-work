{
 "cells": [
  {
   "cell_type": "code",
   "execution_count": 62,
   "metadata": {},
   "outputs": [
    {
     "name": "stdout",
     "output_type": "stream",
     "text": [
      "OpenCV version: 4.9.0\n",
      "NumPy version: 1.26.4\n"
     ]
    }
   ],
   "source": [
    "import cv2 as cv\n",
    "import numpy as np\n",
    "import os\n",
    "\n",
    "print(f\"OpenCV version: {cv.__version__}\")\n",
    "print(f\"NumPy version: {np.__version__}\")"
   ]
  },
  {
   "cell_type": "code",
   "execution_count": 23,
   "metadata": {},
   "outputs": [],
   "source": [
    "mathable_matrix = [\n",
    "    [3, \"\", \"\", \"\", \"\", \"\", 3, 3, \"\", \"\", \"\", \"\", \"\", 3],\n",
    "    [\"\", 2, \"\", \"\", \":\", \"\", \"\", \"\", \"\", \":\", \"\", \"\", 2, \"\"],\n",
    "    [\"\", \"\", 2, \"\", \"\", \"-\", \"\", \"\", \"-\", \"\", \"\", 2, \"\", \"\"],\n",
    "    [\"\", \"\", \"\", 2, \"\", \"\", \"+\", \"*\", \"\", \"\", 2, \"\", \"\", \"\"],\n",
    "    [\"\", \":\", \"\", \"\", 2, \"\", \"*\", \"+\", \"\", 2, \"\", \"\", \":\", \"\"],\n",
    "    [\"\", \"\", \"-\", \"\", \"\", \"\", \"\", \"\", \"\", \"\", \"\", \"-\", \"\", \"\"],\n",
    "    [3, \"\", \"\", \"*\", \"+\", \"\", \"\", \"\", \"\", \"*\", \"+\", \"\", \"\", 3],\n",
    "    [3, \"\", \"\", \"+\", \"*\", \"\", \"\", \"\", \"\", \"+\", \"*\", \"\", \"\", 3],\n",
    "    [\"\", \"\", \"-\", \"\", \"\", \"\", \"\", \"\", \"\", \"\", \"\", \"-\", \"\", \"\"],\n",
    "    [\"\", \":\", \"\", \"\", 2, \"\", \"+\", \"*\", \"\", 2, \"\", \"\", \":\", \"\"],\n",
    "    [\"\", \"\", \"\", 2, \"\", \"\", \"*\", \"+\", \"\", \"\", 2, \"\", \"\", \"\"],\n",
    "    [\"\", \"\", 2, \"\", \"\", \"-\", \"\", \"\", \"-\", \"\", \"\", 2, \"\", \"\"],\n",
    "    [\"\", 2, \"\", \"\", \":\", \"\", \"\", \"\", \"\", \":\", \"\", \"\", 2, \"\"],\n",
    "    [3, \"\", \"\", \"\", \"\", \"\", 3, 3, \"\", \"\", \"\", \"\", \"\", 3],\n",
    "]\n",
    "\n",
    "mathable_tiles= [[0,0,0,0,0,0,0,0,0,0,0,0,0,0],\n",
    "                [0,0,0,0,0,0,0,0,0,0,0,0,0,0],\n",
    "                [0,0,0,0,0,0,0,0,0,0,0,0,0,0],\n",
    "                [0,0,0,0,0,0,0,0,0,0,0,0,0,0],\n",
    "                [0,0,0,0,0,0,0,0,0,0,0,0,0,0],\n",
    "                [0,0,0,0,0,0,0,0,0,0,0,0,0,0],\n",
    "                [0,0,0,0,0,0,1,2,0,0,0,0,0,0],\n",
    "                [0,0,0,0,0,0,3,4,0,0,0,0,0,0],\n",
    "                [0,0,0,0,0,0,0,0,0,0,0,0,0,0],\n",
    "                [0,0,0,0,0,0,0,0,0,0,0,0,0,0],\n",
    "                [0,0,0,0,0,0,0,0,0,0,0,0,0,0],\n",
    "                [0,0,0,0,0,0,0,0,0,0,0,0,0,0],\n",
    "                [0,0,0,0,0,0,0,0,0,0,0,0,0,0],\n",
    "                [0,0,0,0,0,0,0,0,0,0,0,0,0,0],]"
   ]
  },
  {
   "cell_type": "code",
   "execution_count": 52,
   "metadata": {},
   "outputs": [],
   "source": [
    "def restore_table():\n",
    "    global mathable_matrix\n",
    "    global mathable_tiles\n",
    "    mathable_matrix = [\n",
    "    [3, \"\", \"\", \"\", \"\", \"\", 3, 3, \"\", \"\", \"\", \"\", \"\", 3],\n",
    "    [\"\", 2, \"\", \"\", \":\", \"\", \"\", \"\", \"\", \":\", \"\", \"\", 2, \"\"],\n",
    "    [\"\", \"\", 2, \"\", \"\", \"-\", \"\", \"\", \"-\", \"\", \"\", 2, \"\", \"\"],\n",
    "    [\"\", \"\", \"\", 2, \"\", \"\", \"+\", \"*\", \"\", \"\", 2, \"\", \"\", \"\"],\n",
    "    [\"\", \":\", \"\", \"\", 2, \"\", \"*\", \"+\", \"\", 2, \"\", \"\", \":\", \"\"],\n",
    "    [\"\", \"\", \"-\", \"\", \"\", \"\", \"\", \"\", \"\", \"\", \"\", \"-\", \"\", \"\"],\n",
    "    [3, \"\", \"\", \"*\", \"+\", \"\", \"\", \"\", \"\", \"*\", \"+\", \"\", \"\", 3],\n",
    "    [3, \"\", \"\", \"+\", \"*\", \"\", \"\", \"\", \"\", \"+\", \"*\", \"\", \"\", 3],\n",
    "    [\"\", \"\", \"-\", \"\", \"\", \"\", \"\", \"\", \"\", \"\", \"\", \"-\", \"\", \"\"],\n",
    "    [\"\", \":\", \"\", \"\", 2, \"\", \"+\", \"*\", \"\", 2, \"\", \"\", \":\", \"\"],\n",
    "    [\"\", \"\", \"\", 2, \"\", \"\", \"*\", \"+\", \"\", \"\", 2, \"\", \"\", \"\"],\n",
    "    [\"\", \"\", 2, \"\", \"\", \"-\", \"\", \"\", \"-\", \"\", \"\", 2, \"\", \"\"],\n",
    "    [\"\", 2, \"\", \"\", \":\", \"\", \"\", \"\", \"\", \":\", \"\", \"\", 2, \"\"],\n",
    "    [3, \"\", \"\", \"\", \"\", \"\", 3, 3, \"\", \"\", \"\", \"\", \"\", 3],\n",
    "]\n",
    "\n",
    "    mathable_tiles= [[0,0,0,0,0,0,0,0,0,0,0,0,0,0],\n",
    "                [0,0,0,0,0,0,0,0,0,0,0,0,0,0],\n",
    "                [0,0,0,0,0,0,0,0,0,0,0,0,0,0],\n",
    "                [0,0,0,0,0,0,0,0,0,0,0,0,0,0],\n",
    "                [0,0,0,0,0,0,0,0,0,0,0,0,0,0],\n",
    "                [0,0,0,0,0,0,0,0,0,0,0,0,0,0],\n",
    "                [0,0,0,0,0,0,1,2,0,0,0,0,0,0],\n",
    "                [0,0,0,0,0,0,3,4,0,0,0,0,0,0],\n",
    "                [0,0,0,0,0,0,0,0,0,0,0,0,0,0],\n",
    "                [0,0,0,0,0,0,0,0,0,0,0,0,0,0],\n",
    "                [0,0,0,0,0,0,0,0,0,0,0,0,0,0],\n",
    "                [0,0,0,0,0,0,0,0,0,0,0,0,0,0],\n",
    "                [0,0,0,0,0,0,0,0,0,0,0,0,0,0],\n",
    "                [0,0,0,0,0,0,0,0,0,0,0,0,0,0],]"
   ]
  },
  {
   "cell_type": "code",
   "execution_count": 25,
   "metadata": {},
   "outputs": [],
   "source": [
    "def show_image(title,image):\n",
    "    cv.imshow(title,image)\n",
    "    image=cv.resize(image,(0,0),fx=0.4,fy=0.4)\n",
    "    cv.imshow(title,image)\n",
    "    cv.waitKey(0)\n",
    "    cv.destroyAllWindows()"
   ]
  },
  {
   "cell_type": "code",
   "execution_count": 51,
   "metadata": {},
   "outputs": [],
   "source": [
    "def crop_grid(image):\n",
    "    # Extract the ROI of the Mathable board\n",
    "    width=1400\n",
    "    height=1400\n",
    "    top_left=[ 876, 1776]\n",
    "    top_right=[2330, 1776]\n",
    "    bottom_left=[ 876, 3227]\n",
    "    bottom_right=[2330, 3242]\n",
    "    \n",
    "    puzzle = np.array([top_left,top_right,bottom_right,bottom_left], dtype = \"float32\")\n",
    "    destination_of_puzzle = np.array([[0,0],[width,0],[width,height],[0,height]], dtype = \"float32\")\n",
    "\n",
    "    M = cv.getPerspectiveTransform(puzzle,destination_of_puzzle)\n",
    "\n",
    "    result = cv.warpPerspective(image, M, (width, height))\n",
    "\n",
    "    return result"
   ]
  },
  {
   "cell_type": "code",
   "execution_count": null,
   "metadata": {},
   "outputs": [],
   "source": [
    "#show_image(\"test\",crop_grid(cv.imread(\"antrenare/1_01.jpg\")))"
   ]
  },
  {
   "cell_type": "code",
   "execution_count": 28,
   "metadata": {},
   "outputs": [],
   "source": [
    "def crop_image(image,pixels):\n",
    "    height, width = image.shape[:2]\n",
    "    return image[pixels:height-pixels, pixels:width-pixels]"
   ]
  },
  {
   "cell_type": "code",
   "execution_count": null,
   "metadata": {},
   "outputs": [],
   "source": [
    "def preproccess_image(image):\n",
    "    #Preproccessing the initial images\n",
    "    image = crop_grid(image)\n",
    "    image = cv.cvtColor(image, cv.COLOR_BGR2GRAY)\n",
    "    image_m_blur = cv.medianBlur(image,3)\n",
    "    image_g_blur = cv.GaussianBlur(image_m_blur, (0, 0), 5) \n",
    "    image_sharpened = cv.addWeighted(image_m_blur, 1.2, image_g_blur, -0.8, 0)\n",
    "    #show_image('preprocessed',image_sharpened)\n",
    "    return image_sharpened"
   ]
  },
  {
   "cell_type": "code",
   "execution_count": null,
   "metadata": {},
   "outputs": [],
   "source": [
    "#show_image(\"test\",preproccess_image(cv.imread(\"antrenare/1_01.jpg\")))"
   ]
  },
  {
   "cell_type": "code",
   "execution_count": 31,
   "metadata": {},
   "outputs": [],
   "source": [
    "# Remove comments to generate templates\n",
    "# def make_templates():\n",
    "#     if not os.path.exists('templates'):\n",
    "#         os.makedirs('templates')\n",
    "#     cropped = crop_grid(cv.imread('imagini_auxiliare/03.jpg'))\n",
    "#     height, width = cropped.shape[:2]\n",
    "    \n",
    "#     #Calculate cell dimensions\n",
    "#     cell_width = width // 14\n",
    "#     cell_height = height // 14\n",
    "#     #print(cell_width,cell_height)\n",
    "\n",
    "#     for row in range(14):\n",
    "#         for col in range(14):\n",
    "#             #Calculate cell boundaries\n",
    "#             x_start = col * cell_width\n",
    "#             x_end = x_start + cell_width\n",
    "#             y_start = row * cell_height\n",
    "#             y_end = y_start + cell_height\n",
    "#             cell = cropped[y_start:y_end, x_start:x_end]\n",
    "#             #cell = crop_image(cell, 5)\n",
    "#             cv.imwrite(f\"templates/template_{row}_{col}.png\",cell)\n",
    "\n",
    "#make_templates()\n"
   ]
  },
  {
   "cell_type": "code",
   "execution_count": null,
   "metadata": {},
   "outputs": [],
   "source": [
    "def normalize_image(image):\n",
    "    # Apply image normalization\n",
    "    _, thresh = cv.threshold(image, 127, 255, cv.THRESH_BINARY)\n",
    "    blurred = cv.GaussianBlur(thresh, (0, 0), 5)\n",
    "    blurred_1 = cv.medianBlur(blurred,3)\n",
    "    blurred = cv.addWeighted(blurred, 1.2, blurred_1, -0.8, 0)\n",
    "\n",
    "    return blurred\n",
    "\n",
    "def rotate_image(image, angle):\n",
    "    #Rotate image by angle\n",
    "    h, w = image.shape\n",
    "    center = (w // 2, h // 2)\n",
    "    rotation_matrix = cv.getRotationMatrix2D(center, angle, 1.0)\n",
    "    rotated = cv.warpAffine(image, rotation_matrix, (w, h), flags=cv.INTER_LINEAR)\n",
    "    padded = cv.copyMakeBorder(rotated, 10, 10, 10, 10, cv.BORDER_CONSTANT, value=0)\n",
    "    return padded"
   ]
  },
  {
   "cell_type": "code",
   "execution_count": 32,
   "metadata": {},
   "outputs": [],
   "source": [
    "rotation_angles = range(-10, 11, 1)"
   ]
  },
  {
   "cell_type": "code",
   "execution_count": 48,
   "metadata": {},
   "outputs": [],
   "source": [
    "def find_number(image):\n",
    "        image = cv.cvtColor(image, cv.COLOR_BGR2GRAY)\n",
    "        image = normalize_image(image)\n",
    "        image = crop_image(image, 10)\n",
    "        files = os.listdir('template')\n",
    "        maxi=-np.inf\n",
    "        poz=-1\n",
    "        for file in files:\n",
    "            img_template=cv.imread('template/'+file)\n",
    "            img_template=cv.cvtColor(img_template, cv.COLOR_BGR2GRAY)\n",
    "            img_template=normalize_image(img_template)\n",
    "            for angle in rotation_angles:\n",
    "                for cut in range(0,11,5):\n",
    "                    normalized_template= crop_image(img_template, cut)\n",
    "                    normalized_template= rotate_image(img_template, angle)\n",
    "                    corr = cv.matchTemplate(image,normalized_template, cv.TM_CCOEFF_NORMED)\n",
    "                    corr=np.max(corr)\n",
    "                    if corr>maxi:\n",
    "                        maxi=corr\n",
    "                        poz=int(file.split('_')[1].split('.')[0])\n",
    "\n",
    "        return poz"
   ]
  },
  {
   "cell_type": "code",
   "execution_count": 50,
   "metadata": {},
   "outputs": [],
   "source": [
    "def root_mean_squared_error(image1, image2):\n",
    "    # Calculate the RMSE between two images\n",
    "    rmse = (np.sum((image1 - image2) ** 2))**0.5\n",
    "    return rmse"
   ]
  },
  {
   "cell_type": "code",
   "execution_count": 49,
   "metadata": {},
   "outputs": [],
   "source": [
    "def find_difference(before_image, after_image):\n",
    "    # Get dimensions of the cropped image\n",
    "    original = cv.imread(after_image).copy()\n",
    "    original = crop_grid(original)\n",
    "    cropped_before = preproccess_image(cv.imread(before_image))\n",
    "    cropped_after = preproccess_image(cv.imread(after_image))\n",
    "    height, width = cropped_before.shape[:2]\n",
    "    \n",
    "    # Calculate cell dimensions (assuming 14x14 grid)\n",
    "    cell_width = width // 14\n",
    "    cell_height = height // 14\n",
    "    \n",
    "    max_error=0\n",
    "    max_row = None\n",
    "    max_col = None\n",
    "    candidate_cell = None\n",
    "    # Loop through the grid and extract each cell\n",
    "    for row in range(14):\n",
    "        for col in range(14):\n",
    "            # Calculate cell boundaries\n",
    "            x_start = col * cell_width\n",
    "            x_end = x_start + cell_width\n",
    "            y_start = row * cell_height\n",
    "            y_end = y_start + cell_height\n",
    "            # Extract the cell using slicing\n",
    "            cell_before = cropped_before[y_start:y_end, x_start:x_end]\n",
    "            cell_after = cropped_after[y_start:y_end, x_start:x_end]\n",
    "            cell_original = original[y_start:y_end, x_start:x_end]\n",
    "            column_label = chr(ord('A') + col)  # Convert to A-N\n",
    "            row_label = row + 1  # Convert to 1-14\n",
    "            rmse = root_mean_squared_error(cell_before,cell_after)\n",
    "            if rmse>max_error:\n",
    "                max_error=rmse\n",
    "                max_row = row_label\n",
    "                max_col = column_label\n",
    "                candidate_cell = cell_original\n",
    "    predicted_number = find_number(candidate_cell)\n",
    "    return (max_error,max_row,max_col,predicted_number)\n",
    "\n",
    "            "
   ]
  },
  {
   "cell_type": "code",
   "execution_count": null,
   "metadata": {},
   "outputs": [
    {
     "name": "stdout",
     "output_type": "stream",
     "text": [
      "Predicted number: 8\n"
     ]
    },
    {
     "data": {
      "text/plain": [
       "(985.8742313297371, 9, 'H', 8)"
      ]
     },
     "execution_count": 36,
     "metadata": {},
     "output_type": "execute_result"
    }
   ],
   "source": [
    "#find_difference('imagini_auxiliare/01.jpg','antrenare/1_01.jpg')"
   ]
  },
  {
   "cell_type": "code",
   "execution_count": 78,
   "metadata": {},
   "outputs": [],
   "source": [
    "def is_valid_equation(a, b, operator, result):\n",
    "    if operator == \"+\":\n",
    "        return a + b == result\n",
    "    elif operator == \"-\":\n",
    "        return abs(a - b) == result\n",
    "    elif operator == \"*\":\n",
    "        return a * b == result\n",
    "    elif operator == \":\" and a != 0 and b != 0:\n",
    "        return max(a,b)/min(a,b) == result and max(a,b)%min(a,b)==0\n",
    "    return False"
   ]
  },
  {
   "cell_type": "code",
   "execution_count": 66,
   "metadata": {},
   "outputs": [],
   "source": [
    "def check_equation(row, col, number, operator=\"\"):\n",
    "    neighbors = []\n",
    "    score = 0\n",
    "    #Left\n",
    "    if col > 1:\n",
    "        neighbors.append((mathable_tiles[row][col - 2], mathable_tiles[row][col - 1]))\n",
    "    #Right\n",
    "    if col < len(mathable_tiles[row]) - 2:\n",
    "        neighbors.append((mathable_tiles[row][col + 1], mathable_tiles[row][col + 2]))\n",
    "    #Up\n",
    "    if row > 1:\n",
    "        neighbors.append((mathable_tiles[row - 2][col], mathable_tiles[row - 1][col]))\n",
    "    #Down\n",
    "    if row < len(mathable_tiles) - 2:\n",
    "        neighbors.append((mathable_tiles[row + 1][col], mathable_tiles[row + 2][col]))\n",
    "    for n1, n2 in neighbors:\n",
    "        if n1 != 0 and n2 != 0:  # Only check valid neighbors\n",
    "            n1=max(0,n1)\n",
    "            n2=max(0,n2)\n",
    "            if operator:\n",
    "                # Check specific operator\n",
    "                if is_valid_equation(n1, n2, operator, number):\n",
    "                    score += number\n",
    "            else:\n",
    "                # Check all operators\n",
    "                for op in [\"+\", \"-\", \"*\", \":\"]:\n",
    "                    if is_valid_equation(n1, n2, op, number):\n",
    "                        score += number\n",
    "    return score"
   ]
  },
  {
   "cell_type": "code",
   "execution_count": 76,
   "metadata": {},
   "outputs": [],
   "source": [
    "def update_table(number, position):\n",
    "    row, col = position\n",
    "    #print(row,col)\n",
    "    score_multiplier=1\n",
    "    constraint = mathable_matrix[row][col]\n",
    "    if constraint ==2 or constraint ==3:\n",
    "        score_multiplier = constraint\n",
    "        constraint = \"\"\n",
    "    # Check if the number is 0 and signal its presence\n",
    "    if (number==0):\n",
    "        number = -1\n",
    "    mathable_tiles[row][col] = number\n",
    "    score = check_equation(row, col, number, operator=constraint)*score_multiplier\n",
    "    return score"
   ]
  },
  {
   "cell_type": "code",
   "execution_count": 80,
   "metadata": {},
   "outputs": [],
   "source": [
    "def calculate_scores(round_score,file_path,output_file):\n",
    "    #print(round_score)\n",
    "    parsed_data = []\n",
    "    results=[]\n",
    "    with open(file_path,\"r\") as file:\n",
    "        for line in file:\n",
    "            line = line.strip()\n",
    "            if line:  # Skip empty lines\n",
    "                player, begin_player_round = line.split()\n",
    "                parsed_data.append((player[-1], int(begin_player_round)))\n",
    "    for i in range(len(parsed_data)):\n",
    "        begin_player_round = int(parsed_data[i][1])\n",
    "        player = parsed_data[i][0]\n",
    "        if i+1==len(parsed_data):\n",
    "            player_round_stop = 50\n",
    "        else:\n",
    "            player_round_stop = int(parsed_data[i+1][1])\n",
    "        #print(player,begin_player_round,player_round_stop)\n",
    "        total_score = sum(round_score[:player_round_stop-1])-sum(round_score[:(max(0,begin_player_round-1))])\n",
    "        results.append(f'Player{player} {begin_player_round} {total_score}')\n",
    "\n",
    "    with open(output_file, \"a\") as file_output:\n",
    "        for result in results:\n",
    "            file_output.write(result + '\\n')"
   ]
  },
  {
   "cell_type": "code",
   "execution_count": 69,
   "metadata": {},
   "outputs": [],
   "source": [
    "def run_batch(path):\n",
    "    index = 1\n",
    "    before_path = 'imagini_auxiliare/01.jpg'\n",
    "    files = os.listdir(path[:-1])\n",
    "    if not os.path.exists('results'):\n",
    "        os.makedirs('results')\n",
    "    scores=[]\n",
    "    for file_index in range(len(files)):\n",
    "        file = files[file_index]\n",
    "        if file[-3:]=='jpg':\n",
    "            if file[0]==str(index):\n",
    "                _,x,y,predicted_number=find_difference(before_path,path+file)\n",
    "                scores.append(update_table(int(predicted_number), (x-1, ord(y) - ord(\"A\"))))\n",
    "                before_path=path+file\n",
    "                result_file_path = f'results/{file[:-3]}txt'  # Replace .jpg with .txt\n",
    "                with open(result_file_path, \"w\") as result_file:\n",
    "                    result_file.write(f'{x}{y} {predicted_number}')\n",
    "            elif file[0]==str(index+1):\n",
    "                output_file=f\"results/{index}_scores.txt\"\n",
    "                calculate_scores(scores, f\"{path}{index}_turns.txt\",output_file)\n",
    "                scores.clear()\n",
    "                restore_table()\n",
    "                before_path = 'imagini_auxiliare/01.jpg'\n",
    "                _,x,y,predicted_number=find_difference(before_path,path+file)\n",
    "                index+=1\n",
    "                result_file_path = f'results/{file[:-3]}txt' \n",
    "                with open(result_file_path, \"w\") as result_file:\n",
    "                    result_file.write(f'{x}{y} {predicted_number}')\n",
    "    #final score file\n",
    "    output_file=f\"results/{index}_scores.txt\"\n",
    "    calculate_scores(scores, f\"{path}{index}_turns.txt\",output_file)"
   ]
  },
  {
   "cell_type": "code",
   "execution_count": 81,
   "metadata": {},
   "outputs": [],
   "source": [
    "run_batch('antrenare/')"
   ]
  }
 ],
 "metadata": {
  "kernelspec": {
   "display_name": "Python 3",
   "language": "python",
   "name": "python3"
  },
  "language_info": {
   "codemirror_mode": {
    "name": "ipython",
    "version": 3
   },
   "file_extension": ".py",
   "mimetype": "text/x-python",
   "name": "python",
   "nbconvert_exporter": "python",
   "pygments_lexer": "ipython3",
   "version": "3.11.1"
  }
 },
 "nbformat": 4,
 "nbformat_minor": 2
}
