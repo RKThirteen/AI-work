{
 "cells": [
  {
   "cell_type": "code",
   "execution_count": 1,
   "metadata": {},
   "outputs": [],
   "source": [
    "import glob\n",
    "import cv2 as cv\n",
    "import numpy as np\n",
    "from skimage.feature import hog\n",
    "from sklearn.svm import SVC, LinearSVC\n",
    "from sklearn.neighbors import KNeighborsClassifier\n",
    "from sklearn.metrics import confusion_matrix,accuracy_score\n",
    "from copy import deepcopy\n",
    "import torch\n",
    "import torch.nn as nn\n",
    "import torchvision.models as models\n",
    "import torchvision.transforms as transforms\n",
    "from torch.autograd import Variable\n",
    "from PIL import Image\n",
    "import os\n",
    "import matplotlib.pyplot as plt"
   ]
  },
  {
   "cell_type": "code",
   "execution_count": 16,
   "metadata": {},
   "outputs": [],
   "source": [
    "def load_images(path, image_size=(300, 300)):\n",
    "    print(path)\n",
    "    if os.path.exists(path):\n",
    "        \n",
    "        files = glob.glob(os.path.join(path, '*'))\n",
    "\n",
    "        images = []\n",
    "\n",
    "        for file in files:\n",
    "            image = cv.imread(file)\n",
    "            image = cv.resize(image, image_size, interpolation=cv.INTER_LINEAR)\n",
    "            img_array = np.asarray(image)\n",
    "\n",
    "            images.append(img_array)\n",
    "\n",
    "        images = np.array(images)\n",
    "        \n",
    "        return images\n",
    "    else:\n",
    "        print(\"path not found\")"
   ]
  },
  {
   "cell_type": "code",
   "execution_count": 36,
   "metadata": {},
   "outputs": [
    {
     "name": "stdout",
     "output_type": "stream",
     "text": [
      "./data/ex1\n",
      "80\n",
      "80\n"
     ]
    }
   ],
   "source": [
    "# Impartirea datelor de train si test in functie de clase\n",
    "# Clasa Laboratorul lui Dexter: imaginile lui dexter si ale lui deedee cu label 0\n",
    "# Clasa Viata lui Louie: imaginile lui louie si tommy cu label 1\n",
    "\n",
    "all_images = load_images('./data/ex1')\n",
    "deedee_train = all_images[:40]\n",
    "deedee_test = all_images[40:55]\n",
    "louie_train = all_images[55:95]\n",
    "louie_test = all_images[95:110]\n",
    "dexter_train = all_images[110:150]\n",
    "dexter_test = all_images[150:165]\n",
    "tommy_train = all_images[165:205]\n",
    "tommy_test = all_images[205:]\n",
    "dexter_class_train = np.concatenate((deedee_train,dexter_train),axis=0)\n",
    "dexter_class_test = np.concatenate((deedee_test,dexter_test),axis=0)\n",
    "dexter_class_labels = np.zeros(len(dexter_class_train))\n",
    "louie_class_train = np.concatenate((louie_train,tommy_train),axis=0)\n",
    "louie_class_test = np.concatenate((louie_test,tommy_test),axis=0)\n",
    "louie_class_labels = np.ones(len(louie_class_train))\n",
    "print(len(louie_class_labels))\n",
    "print(len(dexter_class_labels))\n",
    "\n",
    "train_images = np.concatenate((dexter_class_train,louie_class_train),axis=0)\n",
    "train_labels = np.concatenate((dexter_class_labels,louie_class_labels),axis=0)\n",
    "test_images = np.concatenate((dexter_class_test,louie_class_test),axis=0)\n",
    "test_labels=np.concatenate((np.zeros(len(dexter_class_test)),np.ones(len(louie_class_test))),axis=0)"
   ]
  },
  {
   "cell_type": "code",
   "execution_count": 37,
   "metadata": {},
   "outputs": [
    {
     "name": "stdout",
     "output_type": "stream",
     "text": [
      "(160, 300, 300, 3)\n",
      "(160,)\n",
      "(60, 300, 300, 3)\n",
      "(60,)\n"
     ]
    }
   ],
   "source": [
    "print(train_images.shape)\n",
    "print(train_labels.shape)\n",
    "print(test_images.shape)\n",
    "print(test_labels.shape)"
   ]
  },
  {
   "cell_type": "code",
   "execution_count": null,
   "metadata": {},
   "outputs": [],
   "source": [
    "def get_flatten_images(images):\n",
    "    images_flatten=[]\n",
    "    for img in images:\n",
    "        img = cv.cvtColor(img, cv.COLOR_BGR2GRAY)\n",
    "        img=img.flatten()\n",
    "        images_flatten.append(img)\n",
    "    images_flatten = np.array(images_flatten)\n",
    "    return images_flatten"
   ]
  },
  {
   "cell_type": "code",
   "execution_count": null,
   "metadata": {},
   "outputs": [],
   "source": [
    "def get_gray_histogram(images):\n",
    "    gray_histograms = []\n",
    "    for img in images:\n",
    "        img = cv.cvtColor(img, cv.COLOR_BGR2GRAY)\n",
    "        hist = cv.calcHist([img], [0], None, [256], [0, 256])\n",
    "        gray_histograms.append(hist.flatten())\n",
    "    gray_histograms = np.array(gray_histograms)\n",
    "    return gray_histograms"
   ]
  },
  {
   "cell_type": "code",
   "execution_count": null,
   "metadata": {},
   "outputs": [],
   "source": [
    "def get_rgb_histogram(images):\n",
    "    color_histograms = []\n",
    "    for img in images:\n",
    "        hist = cv.calcHist([img], [0, 1, 2],None, [8, 8, 8], [0, 256, 0, 256, 0, 256])\n",
    "        color_histograms.append(hist.flatten())\n",
    "    color_histograms = np.array(color_histograms)\n",
    "    return color_histograms"
   ]
  },
  {
   "cell_type": "code",
   "execution_count": null,
   "metadata": {},
   "outputs": [],
   "source": [
    "def get_hog_descriptors(images):\n",
    "    descriptors = []\n",
    "    for img in images:\n",
    "        img = cv.cvtColor(img, cv.COLOR_BGR2GRAY)\n",
    "        features = hog(img, pixels_per_cell=(6, 6),orientations=8, cells_per_block=(2, 2), block_norm='L2-Hys', feature_vector=True)\n",
    "        descriptors.append(features)\n",
    "    descriptors = np.array(descriptors)\n",
    "    return descriptors"
   ]
  },
  {
   "cell_type": "code",
   "execution_count": 42,
   "metadata": {},
   "outputs": [],
   "source": [
    "def get_neural_network_descriptors(images_np, model_name='resnet18'):\n",
    "    if model_name == 'resnet18':\n",
    "        from torchvision.models import resnet18\n",
    "        model = resnet18(pretrained=True)\n",
    "        layer = model._modules.get('avgpool')  \n",
    "        embedding_dim = 512\n",
    "    elif model_name == 'vgg16':\n",
    "        from torchvision.models import vgg16\n",
    "        model = vgg16(pretrained=True)\n",
    "       \n",
    "        layer = model.features[-1]  \n",
    "        embedding_dim = 512\n",
    "    elif model_name == 'alexnet':\n",
    "        from torchvision.models import alexnet\n",
    "        model = alexnet(pretrained=True)\n",
    "        \n",
    "        layer = model.features[-1]  \n",
    "        embedding_dim = 256\n",
    "    else:\n",
    "        raise ValueError(f\"Modelul {model_name} nu este suportat.\")\n",
    "\n",
    "    model.eval()\n",
    "\n",
    "    preprocess = transforms.Compose([\n",
    "        transforms.ToPILImage(),\n",
    "        transforms.Resize((224, 224)),\n",
    "        transforms.ToTensor(),\n",
    "        transforms.Normalize(mean=[0.485, 0.456, 0.406],\n",
    "                             std=[0.229, 0.224, 0.225])\n",
    "    ])\n",
    "\n",
    "    descriptors = []\n",
    "    for i, img_np in enumerate(images_np):\n",
    "        img_tensor = preprocess(img_np).unsqueeze(0)  \n",
    "        img_tensor = Variable(img_tensor)\n",
    "\n",
    "        \n",
    "        my_embedding = torch.zeros(embedding_dim)\n",
    "\n",
    "        def copy_data(m, i, o):\n",
    "            \n",
    "            my_embedding.copy_(o.data.mean(dim=[2, 3]).view(-1))  \n",
    "\n",
    "        h = layer.register_forward_hook(copy_data)\n",
    "        model(img_tensor)\n",
    "        h.remove()\n",
    "\n",
    "        descriptors.append(my_embedding.numpy())\n",
    "\n",
    "    descriptors = np.array(descriptors)\n",
    "    return descriptors\n"
   ]
  },
  {
   "cell_type": "code",
   "execution_count": null,
   "metadata": {},
   "outputs": [],
   "source": [
    "train_images_flatten=get_flatten_images(train_images)\n",
    "test_images_flatten=get_flatten_images(test_images)"
   ]
  },
  {
   "cell_type": "code",
   "execution_count": null,
   "metadata": {},
   "outputs": [],
   "source": [
    "train_images_gray_hist=get_gray_histogram(train_images)\n",
    "test_images_gray_hist=get_gray_histogram(test_images)"
   ]
  },
  {
   "cell_type": "code",
   "execution_count": null,
   "metadata": {},
   "outputs": [],
   "source": [
    "train_images_color_hist=get_rgb_histogram(train_images)\n",
    "test_images_color_hist=get_rgb_histogram(test_images)"
   ]
  },
  {
   "cell_type": "code",
   "execution_count": null,
   "metadata": {},
   "outputs": [],
   "source": [
    "train_images_hog=get_hog_descriptors(train_images)\n",
    "test_images_hog=get_hog_descriptors(test_images)"
   ]
  },
  {
   "cell_type": "code",
   "execution_count": 47,
   "metadata": {},
   "outputs": [
    {
     "name": "stderr",
     "output_type": "stream",
     "text": [
      "c:\\Users\\eduar\\anaconda3\\Lib\\site-packages\\torchvision\\models\\_utils.py:208: UserWarning: The parameter 'pretrained' is deprecated since 0.13 and may be removed in the future, please use 'weights' instead.\n",
      "  warnings.warn(\n",
      "c:\\Users\\eduar\\anaconda3\\Lib\\site-packages\\torchvision\\models\\_utils.py:223: UserWarning: Arguments other than a weight enum or `None` for 'weights' are deprecated since 0.13 and may be removed in the future. The current behavior is equivalent to passing `weights=ResNet18_Weights.IMAGENET1K_V1`. You can also use `weights=ResNet18_Weights.DEFAULT` to get the most up-to-date weights.\n",
      "  warnings.warn(msg)\n",
      "c:\\Users\\eduar\\anaconda3\\Lib\\site-packages\\torchvision\\models\\_utils.py:223: UserWarning: Arguments other than a weight enum or `None` for 'weights' are deprecated since 0.13 and may be removed in the future. The current behavior is equivalent to passing `weights=VGG16_Weights.IMAGENET1K_V1`. You can also use `weights=VGG16_Weights.DEFAULT` to get the most up-to-date weights.\n",
      "  warnings.warn(msg)\n",
      "c:\\Users\\eduar\\anaconda3\\Lib\\site-packages\\torchvision\\models\\_utils.py:223: UserWarning: Arguments other than a weight enum or `None` for 'weights' are deprecated since 0.13 and may be removed in the future. The current behavior is equivalent to passing `weights=AlexNet_Weights.IMAGENET1K_V1`. You can also use `weights=AlexNet_Weights.DEFAULT` to get the most up-to-date weights.\n",
      "  warnings.warn(msg)\n"
     ]
    }
   ],
   "source": [
    "train_descriptors_resnet = get_neural_network_descriptors(train_images, model_name='resnet18')\n",
    "train_descriptors_vgg = get_neural_network_descriptors(train_images, model_name='vgg16')\n",
    "train_descriptors_alexnet = get_neural_network_descriptors(train_images, model_name='alexnet')\n",
    "\n",
    "\n",
    "test_descriptors_resnet = get_neural_network_descriptors(test_images, model_name='resnet18')\n",
    "test_descriptors_vgg = get_neural_network_descriptors(test_images, model_name='vgg16')\n",
    "test_descriptors_alexnet = get_neural_network_descriptors(test_images, model_name='alexnet')\n"
   ]
  },
  {
   "cell_type": "code",
   "execution_count": 48,
   "metadata": {},
   "outputs": [],
   "source": [
    "# Dupa experiment, utilizez caracteristicile la nivel semantic extrase din retelele neuronale convolutionale AlexNet, Vgg, ResNet\n",
    "# folosesc un SVM drept clasificator binar, avand pe de-o parte fetele din lab. lui dexter so pe de alta parte fetele din viata lui louie\n",
    "def train_model(train_descriptors, train_labels, Cs=None):\n",
    "    \n",
    "    if Cs is None:\n",
    "        Cs = [10 ** -5, 10 ** -4, 10 ** -3, 10 ** -2, 10 ** -1, 10 ** 0]\n",
    "\n",
    "    best_accuracy = 0\n",
    "    best_c = 0\n",
    "    best_model = None\n",
    "\n",
    "    for c in Cs:\n",
    "        #print(f'Antrenăm un clasificator pentru C={c}')\n",
    "        model = LinearSVC(C=c)\n",
    "        model.fit(train_descriptors, train_labels)\n",
    "        acc = model.score(train_descriptors, train_labels)\n",
    "        \n",
    "        if acc > best_accuracy:\n",
    "            best_accuracy = acc\n",
    "            best_c = c\n",
    "            best_model = deepcopy(model)\n",
    "\n",
    "    #print(f'Performanța clasificatorului optim pentru C={best_c}: {best_accuracy}')\n",
    "    \n",
    "    return best_model\n"
   ]
  },
  {
   "cell_type": "code",
   "execution_count": 49,
   "metadata": {},
   "outputs": [],
   "source": [
    "model=train_model(train_descriptors_alexnet,train_labels)"
   ]
  },
  {
   "cell_type": "code",
   "execution_count": null,
   "metadata": {},
   "outputs": [
    {
     "name": "stdout",
     "output_type": "stream",
     "text": [
      "AlexNet Accuracy: 1.0000\n"
     ]
    },
    {
     "data": {
      "image/png": "[encoded data removed]",
      "text/plain": [
       "<Figure size 1000x600 with 1 Axes>"
      ]
     },
     "metadata": {},
     "output_type": "display_data"
    }
   ],
   "source": [
    "descriptor_names = [ \n",
    "    'AlexNet', \n",
    "]\n",
    "\n",
    "accuracies = []\n",
    "\n",
    "for train_data, test_data, name in zip(\n",
    "    [ train_descriptors_alexnet,\n",
    "    train_descriptors_resnet,\n",
    "    train_descriptors_vgg,\n",
    "    train_images_hog,\n",
    "    train_images_gray_hist,\n",
    "    test_images_color_hist],\n",
    "    [\n",
    "    test_descriptors_alexnet,\n",
    "    test_descriptors_resnet,\n",
    "    test_descriptors_vgg,\n",
    "    test_images_hog,\n",
    "    test_images_gray_hist,\n",
    "    test_images_color_hist],\n",
    "    descriptor_names):\n",
    "    model = train_model(train_data, train_labels)\n",
    "    predicted_labels = model.predict(test_data)\n",
    "    accuracy = accuracy_score(test_labels, predicted_labels)\n",
    "    accuracies.append(accuracy)\n",
    "    \n",
    "    print(f'{name} Accuracy: {accuracy:.4f}')\n",
    "\n",
    "sorted_indices = np.argsort(accuracies)\n",
    "sorted_accuracies = np.array(accuracies)[sorted_indices]\n",
    "sorted_descriptor_names = np.array(descriptor_names)[sorted_indices]\n",
    "\n",
    "\n",
    "x_positions = np.arange(len(descriptor_names)) \n",
    "\n",
    "plt.figure(figsize=(10, 6))\n",
    "plt.scatter(x_positions, sorted_accuracies, color='skyblue', s=100)  \n",
    "\n",
    "\n",
    "for i, txt in enumerate(sorted_descriptor_names):\n",
    "    plt.annotate(txt, (x_positions[i], sorted_accuracies[i]), textcoords=\"offset points\", xytext=(0, 10), ha='center')\n",
    "\n",
    "\n",
    "plt.xticks(x_positions, sorted_descriptor_names, rotation=45, ha='right')\n",
    "\n",
    "plt.xlabel('Descriptor')\n",
    "plt.ylabel('Acuratete')\n",
    "plt.title('Acuratetea pentru diversi descriptori')\n",
    "plt.tight_layout()\n",
    "\n",
    "\n",
    "plt.show()\n"
   ]
  }
 ],
 "metadata": {
  "kernelspec": {
   "display_name": "base",
   "language": "python",
   "name": "python3"
  },
  "language_info": {
   "codemirror_mode": {
    "name": "ipython",
    "version": 3
   },
   "file_extension": ".py",
   "mimetype": "text/x-python",
   "name": "python",
   "nbconvert_exporter": "python",
   "pygments_lexer": "ipython3",
   "version": "3.11.7"
  }
 },
 "nbformat": 4,
 "nbformat_minor": 2
}
